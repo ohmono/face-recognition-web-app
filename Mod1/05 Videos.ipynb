{
 "cells": [
  {
   "cell_type": "code",
   "execution_count": 1,
   "source": [
    "import cv2"
   ],
   "outputs": [],
   "metadata": {}
  },
  {
   "cell_type": "code",
   "execution_count": 2,
   "source": [
    "haar = cv2.CascadeClassifier('./data/haarcascade_frontalface_default.xml')"
   ],
   "outputs": [],
   "metadata": {}
  },
  {
   "cell_type": "code",
   "execution_count": 3,
   "source": [
    "def face_detect(img):\r\n",
    "    gray = cv2.cvtColor(frame,cv2.COLOR_BGR2GRAY)\r\n",
    "    faces = haar.detectMultiScale(gray,1.3,5)\r\n",
    "    \r\n",
    "    for x,y,w,h in faces:\r\n",
    "        cv2.rectangle(img,(x,y),(x+w,y+h),(0,255,255),2)\r\n",
    "        \r\n",
    "    return img"
   ],
   "outputs": [],
   "metadata": {}
  },
  {
   "cell_type": "code",
   "execution_count": 4,
   "source": [
    "cap = cv2.VideoCapture('./data/video.mp4')\r\n",
    "\r\n",
    "while True:\r\n",
    "    ret,frame = cap.read()\r\n",
    "    if ret == False:\r\n",
    "        break\r\n",
    "        \r\n",
    "    frame = face_detect(frame)\r\n",
    "    cv2.imshow('object_detect',frame)\r\n",
    "    #cv2.imshow('gray',gray)\r\n",
    "    if cv2.waitKey(20) == 27:\r\n",
    "        break\r\n",
    "cv2.destroyAllWindows()\r\n",
    "cap.release()"
   ],
   "outputs": [],
   "metadata": {}
  },
  {
   "cell_type": "code",
   "execution_count": null,
   "source": [],
   "outputs": [],
   "metadata": {}
  }
 ],
 "metadata": {
  "kernelspec": {
   "name": "python3",
   "display_name": "Python 3.9.6 64-bit ('py-env': venv)"
  },
  "language_info": {
   "codemirror_mode": {
    "name": "ipython",
    "version": 3
   },
   "file_extension": ".py",
   "mimetype": "text/x-python",
   "name": "python",
   "nbconvert_exporter": "python",
   "pygments_lexer": "ipython3",
   "version": "3.9.6"
  },
  "interpreter": {
   "hash": "06a3d2b2e7d2e27bb10e00895085506688cd61bbc0be27169b48f31c0dd56eaa"
  }
 },
 "nbformat": 4,
 "nbformat_minor": 4
}